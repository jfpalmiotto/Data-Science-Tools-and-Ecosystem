{
 "cells": [
  {
   "cell_type": "markdown",
   "id": "4274e58a-5556-4168-9647-239472131a32",
   "metadata": {},
   "source": [
    "# Data Science Tools and Ecosystem"
   ]
  },
  {
   "cell_type": "markdown",
   "id": "479090c3-067a-4f51-b858-d8fbd034c372",
   "metadata": {},
   "source": [
    "In this notebook, Data Science Tools and Ecosystem are summarized."
   ]
  },
  {
   "cell_type": "markdown",
   "id": "25b9d696-497b-4d5d-9968-fd374318e322",
   "metadata": {},
   "source": [
    "**Objectives:**"
   ]
  },
  {
   "cell_type": "markdown",
   "id": "c097a6b4-211d-4ee9-9103-73fb3b602497",
   "metadata": {},
   "source": [
    "- Popular languages that Data Scientists\n",
    "- Commonly used libraries used by Data Scientists\n",
    "- Examples of arithmetic expressions in Python"
   ]
  },
  {
   "cell_type": "markdown",
   "id": "e12de256-3c26-4a1b-a204-824ddcc74563",
   "metadata": {},
   "source": [
    "### Some of the popular languages that Data Scientists use are:"
   ]
  },
  {
   "cell_type": "markdown",
   "id": "e71fb3f7-1375-4279-a29e-f62caad88c95",
   "metadata": {},
   "source": [
    "1. Python\n",
    "2. R\n",
    "3. Julia"
   ]
  },
  {
   "cell_type": "markdown",
   "id": "08597abe-aa7c-46ec-9767-a80dae2e1881",
   "metadata": {},
   "source": [
    "### Some of the commonly used libraries used by Data Scientists include:"
   ]
  },
  {
   "cell_type": "markdown",
   "id": "6799cedf-77df-438b-8a96-2730e3aac130",
   "metadata": {},
   "source": [
    "1. NumPy\n",
    "2. Pandas\n",
    "3. Matplotlib"
   ]
  },
  {
   "cell_type": "markdown",
   "id": "23e1ec48-fee0-43c6-a7f5-6d625e693fb2",
   "metadata": {},
   "source": [
    "###  Some of the popular development environment open source tools used in data science:"
   ]
  },
  {
   "cell_type": "markdown",
   "id": "8b675e45-7b4c-44c5-abfe-937f05f03216",
   "metadata": {},
   "source": [
    "|Data Science Tools|\n",
    "------------------\n",
    "|PyCharm|\n",
    "|Visual Studio Code|\n",
    "|Jupyter|\n"
   ]
  },
  {
   "cell_type": "markdown",
   "id": "630924c5-5d59-45eb-9da5-9afc513dde38",
   "metadata": {},
   "source": [
    "### Below are a few examples of evaluating arithmetic expressions in Python"
   ]
  },
  {
   "cell_type": "markdown",
   "id": "061b48e8-ea88-4946-8f3e-0c48a31bec6e",
   "metadata": {},
   "source": [
    "This a simple arithmetic expression to mutiply then add integers"
   ]
  },
  {
   "cell_type": "code",
   "execution_count": 12,
   "id": "72795490-b743-4131-94df-79d8f504c709",
   "metadata": {},
   "outputs": [
    {
     "data": {
      "text/plain": [
       "17"
      ]
     },
     "execution_count": 12,
     "metadata": {},
     "output_type": "execute_result"
    }
   ],
   "source": [
    "(3*4)+5"
   ]
  },
  {
   "cell_type": "markdown",
   "id": "86a22a04-24e1-4e9e-8e55-b3486eb4bf63",
   "metadata": {},
   "source": [
    "This will convert 200 minutes to hours by diving by 60"
   ]
  },
  {
   "cell_type": "code",
   "execution_count": 13,
   "id": "84a81cd5-5822-4edf-b8fb-e553b4caaadf",
   "metadata": {},
   "outputs": [
    {
     "data": {
      "text/plain": [
       "3.3333333333333335"
      ]
     },
     "execution_count": 13,
     "metadata": {},
     "output_type": "execute_result"
    }
   ],
   "source": [
    "200/60"
   ]
  },
  {
   "cell_type": "markdown",
   "id": "b31db546-4864-428b-ba57-04f73f2e47f2",
   "metadata": {},
   "source": [
    "## Author"
   ]
  },
  {
   "cell_type": "markdown",
   "id": "612b4bad-ed91-4dcd-959e-e13c3387ea89",
   "metadata": {},
   "source": [
    "Junior Franco Palmiotto"
   ]
  },
  {
   "cell_type": "code",
   "execution_count": null,
   "id": "b553a7ae-fb38-412e-bb9a-cb2df610c98f",
   "metadata": {},
   "outputs": [],
   "source": []
  }
 ],
 "metadata": {
  "kernelspec": {
   "display_name": "Python 3 (ipykernel)",
   "language": "python",
   "name": "python3"
  },
  "language_info": {
   "codemirror_mode": {
    "name": "ipython",
    "version": 3
   },
   "file_extension": ".py",
   "mimetype": "text/x-python",
   "name": "python",
   "nbconvert_exporter": "python",
   "pygments_lexer": "ipython3",
   "version": "3.11.7"
  }
 },
 "nbformat": 4,
 "nbformat_minor": 5
}
